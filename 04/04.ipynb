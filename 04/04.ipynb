{
 "cells": [
  {
   "cell_type": "markdown",
   "metadata": {},
   "source": [
    "# 2022年度第3ターム「実験数学C」 第04回 10/25(火)4限"
   ]
  },
  {
   "cell_type": "code",
   "execution_count": 10,
   "metadata": {},
   "outputs": [
    {
     "name": "stdout",
     "output_type": "stream",
     "text": [
      "Requirement already satisfied: numpy in ./.venv/lib/python3.10/site-packages (1.23.4)\n"
     ]
    }
   ],
   "source": [
    "# 必要な外部モジュールをインストールする\n",
    "!pip install numpy"
   ]
  },
  {
   "cell_type": "code",
   "execution_count": 11,
   "metadata": {},
   "outputs": [],
   "source": [
    "# 必要なモジュールをインポートする\n",
    "import numpy as np"
   ]
  },
  {
   "cell_type": "markdown",
   "metadata": {},
   "source": [
    "## 以下の行列の固有値・固有ベクトルを求める"
   ]
  },
  {
   "cell_type": "markdown",
   "metadata": {},
   "source": [
    "### 1. $\\begin{pmatrix}2 & -2 \\\\ -1 & 3\\end{pmatrix}$.\n",
    "\n",
    "固有値は $1, 4$ ，固有ベクトルはそれぞれ $s(-0.89442719,-0.4472136), t(0.70710678,-0.70710678)\\ (s, t \\text{は任意定数})$ ．"
   ]
  },
  {
   "cell_type": "code",
   "execution_count": 12,
   "metadata": {},
   "outputs": [
    {
     "name": "stdout",
     "output_type": "stream",
     "text": [
      "固有値 [1. 4.]\n",
      "固有ベクトル [[-0.89442719  0.70710678]\n",
      " [-0.4472136  -0.70710678]]\n"
     ]
    }
   ],
   "source": [
    "# 2×2正方行列を定義\n",
    "a = np.array([[2, -2], [-1, 3]])\n",
    "\n",
    "# aの固有値と固有ベクトル\n",
    "# インデクス0に固有値，インデクス1に固有ベクトルが格納される\n",
    "a_eig = np.linalg.eig(a)\n",
    "\n",
    "# 固有値を表示\n",
    "print(\"固有値 {}\".format(a_eig[0]))\n",
    "\n",
    "# 固有ベクトルを表示\n",
    "print(\"固有ベクトル {}\".format(a_eig[1]))\n",
    "# (-0.89442719,-0.4472136)が固有値1に，(0.70710678,-0.70710678)が固有値4に対応する"
   ]
  },
  {
   "cell_type": "markdown",
   "metadata": {},
   "source": [
    "### 2. $\\begin{pmatrix}2 & 1 & 1 \\\\ 1 & 2 & 1 \\\\ 1 & 1 & 2\\end{pmatrix}$.\n",
    "\n",
    "固有値は $4, 1$ (重解) ，固有ベクトルはそれぞれ $t(1, 1, 1), a(1, 0, -1) + b(0, 1, -1)\\ (t, a, b \\text{は任意定数})$ ．"
   ]
  },
  {
   "cell_type": "code",
   "execution_count": 13,
   "metadata": {},
   "outputs": [
    {
     "name": "stdout",
     "output_type": "stream",
     "text": [
      "[[2 1 1]\n",
      " [1 2 1]\n",
      " [1 1 2]]\n",
      "[1. 4. 1.]\n",
      "[[-0.81649658  0.57735027  0.381008  ]\n",
      " [ 0.40824829  0.57735027 -0.81590361]\n",
      " [ 0.40824829  0.57735027  0.43489561]]\n"
     ]
    }
   ],
   "source": [
    "# 3×3行列を行ごとに入力\n",
    "arr = np.array([[2, 1, 1] , [1, 2, 1] , [1, 1, 2]])\n",
    "# 行列を表示\n",
    "print(arr)\n",
    "# 固有値，固有ベクトルを計算\n",
    "w, v = np.linalg.eig(arr)\n",
    "# 固有値，固有ベクトルを表示\n",
    "print(w)\n",
    "print(v)\n",
    "# 固有ベクトルが固有値4の時t(1,1,1) (tは任意定数) となり，1の時不定形となるためa(1,0,-1) + b(0,1,-1)と表現できる"
   ]
  },
  {
   "cell_type": "markdown",
   "metadata": {},
   "source": [
    "### 3. $\\begin{pmatrix}1 & 1 & 0 \\\\ 1 & 0 & 1 \\\\ 1 & -1 & -1\\end{pmatrix}$.\n",
    "\n",
    "固有値は $1.67169988, -0.83584994 \\pm j1.04686932$ ，固有ベクトルはそれぞれ $(-0.82583158, -0.55471098, -0.10147869), (0.05335901 \\mp j0.26581798, 0.18031755 \\pm j0.54386184, -0.7734297)\\ (j \\text{は虚数単位，} a, b, c \\text{は任意定数})$ ．"
   ]
  },
  {
   "cell_type": "code",
   "execution_count": 14,
   "metadata": {},
   "outputs": [
    {
     "name": "stdout",
     "output_type": "stream",
     "text": [
      "[[ 1  1  0]\n",
      " [ 1  0  1]\n",
      " [ 1 -1 -1]]\n",
      "[ 1.67169988+0.j         -0.83584994+1.04686932j -0.83584994-1.04686932j]\n",
      "[[-0.82583158+0.j          0.05335901-0.26581798j  0.05335901+0.26581798j]\n",
      " [-0.55471098+0.j          0.18031755+0.54386184j  0.18031755-0.54386184j]\n",
      " [-0.10147869+0.j         -0.7734297 +0.j         -0.7734297 -0.j        ]]\n"
     ]
    }
   ],
   "source": [
    "# 3×3行列を行ごとに入力\n",
    "arr = np.array([[1, 1, 0] , [1, 0, 1] , [1, -1, -1]])\n",
    "# 行列を表示\n",
    "print(arr)\n",
    "# 固有値，固有ベクトルを計算\n",
    "w, v = np.linalg.eig(arr)\n",
    "# 固有値，固有ベクトルを表示\n",
    "print(w)\n",
    "print(v)\n",
    "# pythonでは複素数表現で用いられる虚数iがjとして表現されることに注意"
   ]
  }
 ],
 "metadata": {
  "kernelspec": {
   "display_name": "Python 3.10.7 ('.venv': venv)",
   "language": "python",
   "name": "python3"
  },
  "language_info": {
   "codemirror_mode": {
    "name": "ipython",
    "version": 3
   },
   "file_extension": ".py",
   "mimetype": "text/x-python",
   "name": "python",
   "nbconvert_exporter": "python",
   "pygments_lexer": "ipython3",
   "version": "3.10.7"
  },
  "orig_nbformat": 4,
  "vscode": {
   "interpreter": {
    "hash": "21bd60997a9b5335e43c3d7870c16816a57853e0f54a522e0af370ee3a0b92da"
   }
  }
 },
 "nbformat": 4,
 "nbformat_minor": 2
}
