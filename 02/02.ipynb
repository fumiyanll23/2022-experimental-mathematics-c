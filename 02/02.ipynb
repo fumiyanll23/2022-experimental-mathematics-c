{
 "cells": [
  {
   "cell_type": "markdown",
   "metadata": {},
   "source": [
    "# 2022年度第3ターム「実験数学C」 第02回 10/11(火)4限"
   ]
  },
  {
   "cell_type": "code",
   "execution_count": null,
   "metadata": {},
   "outputs": [],
   "source": [
    "# 必要な外部モジュールをインストールする\n",
    "!pip install numpy scipy sympy"
   ]
  },
  {
   "cell_type": "code",
   "execution_count": 1,
   "metadata": {},
   "outputs": [],
   "source": [
    "# 必要なモジュールをインポートする\n",
    "import numpy as np\n",
    "import scipy as sc\n",
    "import sympy as sp\n",
    "from scipy import optimize"
   ]
  },
  {
   "cell_type": "markdown",
   "metadata": {},
   "source": [
    "## 以下の方程式の解を求める"
   ]
  },
  {
   "cell_type": "markdown",
   "metadata": {},
   "source": [
    "### 1. $3x - 1 = 0$：解は $x = \\frac{1}{3}$。"
   ]
  },
  {
   "cell_type": "code",
   "execution_count": 2,
   "metadata": {},
   "outputs": [
    {
     "name": "stdout",
     "output_type": "stream",
     "text": [
      "0.3333333333333333\n"
     ]
    }
   ],
   "source": [
    "# 3x-1=0の解を小数表示するプログラム\n",
    "# 与えられた方程式の係数から解を求める\n",
    "print(np.roots([3, -1])[0])\n",
    "# n次方程式にならばその分リストの数が増えることになる"
   ]
  },
  {
   "cell_type": "code",
   "execution_count": 3,
   "metadata": {},
   "outputs": [
    {
     "name": "stdout",
     "output_type": "stream",
     "text": [
      "[1/3]\n"
     ]
    }
   ],
   "source": [
    "#3x-1=0の解を分数表示するプログラム\n",
    "# 記号xを定義\n",
    "sp.var(\"x\")\n",
    "# 3x -1 = 0 をxについて解く\n",
    "s = sp.solve(3 * x - 1, x)\n",
    "# 解を表示する\n",
    "print(s)"
   ]
  },
  {
   "cell_type": "markdown",
   "metadata": {},
   "source": [
    "### 2. 2次方程式$2x^{2} - 6x + 3 = 0$：解は$x = \\frac{3 \\pm \\sqrt{3}}{2}$。"
   ]
  },
  {
   "cell_type": "code",
   "execution_count": 4,
   "metadata": {},
   "outputs": [],
   "source": [
    "# 2次方程式2x^2-6x+3 = 0をSympyで解く\n",
    "# 変数xを定義する\n",
    "x = sp.symbols(\"x\")\n",
    "\n",
    "# 2次方程式ax^2+bx+c = 0の各係数を設定する\n",
    "a, b, c = 2, -6, 3\n",
    "\n",
    "# 2次方程式を解く\n",
    "anss = sp.solve(a * x**2 + b * x + c, x)"
   ]
  },
  {
   "cell_type": "code",
   "execution_count": 5,
   "metadata": {},
   "outputs": [
    {
     "name": "stdout",
     "output_type": "stream",
     "text": [
      "3/2 - sqrt(3)/2 = 0.633974596215561\n",
      "sqrt(3)/2 + 3/2 = 2.36602540378444\n"
     ]
    }
   ],
   "source": [
    "# 1. 2つの解を数値計算で求める\n",
    "for i in range(len(anss)):\n",
    "    # メソッドevalf()を用いて解を小数で表す\n",
    "    print(f\"{anss[i]} = {anss[i].evalf()}\")"
   ]
  },
  {
   "cell_type": "code",
   "execution_count": 6,
   "metadata": {},
   "outputs": [
    {
     "name": "stdout",
     "output_type": "stream",
     "text": [
      "1.5 - sqrt(3)/2 = 0.633974596215561\n",
      "sqrt(3)/2 + 3/2 = 2.36602540378444\n",
      "(数値計算で求めた解) - (解と係数の関係から求めた解) = 0\n"
     ]
    }
   ],
   "source": [
    "# 2. 大きい方の解を数値計算で求め，小さい方の解を解と係数の関係から求める\n",
    "large = anss[1]\n",
    "small = -(b / a) - large\n",
    "print(f\"{small} = {small.evalf()}\")\n",
    "print(f\"{large} = {large.evalf()}\")\n",
    "\n",
    "# 小さい方の解の求め方による差異を確認する\n",
    "print(f\"(数値計算で求めた解) - (解と係数の関係から求めた解) = {anss[0].evalf() - small.evalf()}\")"
   ]
  },
  {
   "cell_type": "markdown",
   "metadata": {},
   "source": [
    "### 3. $x - \\cos x = 0$：解は厳密な数値は求められない。"
   ]
  },
  {
   "cell_type": "code",
   "execution_count": 7,
   "metadata": {},
   "outputs": [
    {
     "ename": "NotImplementedError",
     "evalue": "multiple generators [x, cos(x)]\nNo algorithms are implemented to solve equation x - cos(x)",
     "output_type": "error",
     "traceback": [
      "\u001b[0;31m---------------------------------------------------------------------------\u001b[0m",
      "\u001b[0;31mNotImplementedError\u001b[0m                       Traceback (most recent call last)",
      "Cell \u001b[0;32mIn [7], line 4\u001b[0m\n\u001b[1;32m      1\u001b[0m \u001b[39m#x-cosxがsympyでは解が出せないことを示すプログラム\u001b[39;00m\n\u001b[1;32m      2\u001b[0m \u001b[39m# 記号xを定義\u001b[39;00m\n\u001b[1;32m      3\u001b[0m sp\u001b[39m.\u001b[39mvar(\u001b[39m\"\u001b[39m\u001b[39mx\u001b[39m\u001b[39m\"\u001b[39m)\n\u001b[0;32m----> 4\u001b[0m K \u001b[39m=\u001b[39m sp\u001b[39m.\u001b[39;49msolve(x \u001b[39m-\u001b[39;49m sp\u001b[39m.\u001b[39;49mcos(x), x)\n\u001b[1;32m      5\u001b[0m \u001b[39m# 解を表示する(しかし表示に\"解けない\"と出る)\u001b[39;00m\n\u001b[1;32m      6\u001b[0m \u001b[39mprint\u001b[39m(K)\n",
      "File \u001b[0;32m~/work/2022-experimental-mathematics-c/.venv/lib/python3.10/site-packages/sympy/solvers/solvers.py:1112\u001b[0m, in \u001b[0;36msolve\u001b[0;34m(f, *symbols, **flags)\u001b[0m\n\u001b[1;32m   1108\u001b[0m \u001b[39m#\u001b[39;00m\n\u001b[1;32m   1109\u001b[0m \u001b[39m# try to get a solution\u001b[39;00m\n\u001b[1;32m   1110\u001b[0m \u001b[39m###########################################################################\u001b[39;00m\n\u001b[1;32m   1111\u001b[0m \u001b[39mif\u001b[39;00m bare_f:\n\u001b[0;32m-> 1112\u001b[0m     solution \u001b[39m=\u001b[39m _solve(f[\u001b[39m0\u001b[39;49m], \u001b[39m*\u001b[39;49msymbols, \u001b[39m*\u001b[39;49m\u001b[39m*\u001b[39;49mflags)\n\u001b[1;32m   1113\u001b[0m \u001b[39melse\u001b[39;00m:\n\u001b[1;32m   1114\u001b[0m     solution \u001b[39m=\u001b[39m _solve_system(f, symbols, \u001b[39m*\u001b[39m\u001b[39m*\u001b[39mflags)\n",
      "File \u001b[0;32m~/work/2022-experimental-mathematics-c/.venv/lib/python3.10/site-packages/sympy/solvers/solvers.py:1744\u001b[0m, in \u001b[0;36m_solve\u001b[0;34m(f, *symbols, **flags)\u001b[0m\n\u001b[1;32m   1741\u001b[0m \u001b[39m# ----------- end of fallback ----------------------------\u001b[39;00m\n\u001b[1;32m   1743\u001b[0m \u001b[39mif\u001b[39;00m result \u001b[39mis\u001b[39;00m \u001b[39mFalse\u001b[39;00m:\n\u001b[0;32m-> 1744\u001b[0m     \u001b[39mraise\u001b[39;00m \u001b[39mNotImplementedError\u001b[39;00m(\u001b[39m'\u001b[39m\u001b[39m\\n\u001b[39;00m\u001b[39m'\u001b[39m\u001b[39m.\u001b[39mjoin([msg, not_impl_msg \u001b[39m%\u001b[39m f]))\n\u001b[1;32m   1746\u001b[0m \u001b[39mif\u001b[39;00m flags\u001b[39m.\u001b[39mget(\u001b[39m'\u001b[39m\u001b[39msimplify\u001b[39m\u001b[39m'\u001b[39m, \u001b[39mTrue\u001b[39;00m):\n\u001b[1;32m   1747\u001b[0m     result \u001b[39m=\u001b[39m \u001b[39mlist\u001b[39m(\u001b[39mmap\u001b[39m(simplify, result))\n",
      "\u001b[0;31mNotImplementedError\u001b[0m: multiple generators [x, cos(x)]\nNo algorithms are implemented to solve equation x - cos(x)"
     ]
    }
   ],
   "source": [
    "#x-cosxがsympyでは解が出せないことを示すプログラム\n",
    "# 記号xを定義\n",
    "sp.var(\"x\")\n",
    "K = sp.solve(x - sp.cos(x), x)\n",
    "# 解を表示する(しかし表示に\"解けない\"と出る)\n",
    "print(K)"
   ]
  },
  {
   "cell_type": "code",
   "execution_count": 8,
   "metadata": {},
   "outputs": [
    {
     "name": "stdout",
     "output_type": "stream",
     "text": [
      "[0.73908513]\n"
     ]
    },
    {
     "name": "stderr",
     "output_type": "stream",
     "text": [
      "/tmp/ipykernel_7079/1075576470.py:7: DeprecationWarning: scipy.cos is deprecated and will be removed in SciPy 2.0.0, use numpy.cos instead\n",
      "  return sc.cos(x)  # g(x)=cos(x)の定義\n"
     ]
    }
   ],
   "source": [
    "#x-cosxをscipyを用いてプログラム\n",
    "def f(x):\n",
    "    return x  # f(x)=xの定義\n",
    "\n",
    "\n",
    "def g(x):\n",
    "    return sc.cos(x)  # g(x)=cos(x)の定義\n",
    "\n",
    "\n",
    "def h(x):\n",
    "    return f(x) - g(x)  # h(x)=f(x)-g(x)の定義\n",
    "\n",
    "\n",
    "T = optimize.fsolve(h, 0)  # h(x)=0を解く\n",
    "print(T)"
   ]
  }
 ],
 "metadata": {
  "kernelspec": {
   "display_name": "Python 3.10.7 ('.venv': venv)",
   "language": "python",
   "name": "python3"
  },
  "language_info": {
   "codemirror_mode": {
    "name": "ipython",
    "version": 3
   },
   "file_extension": ".py",
   "mimetype": "text/x-python",
   "name": "python",
   "nbconvert_exporter": "python",
   "pygments_lexer": "ipython3",
   "version": "3.10.7"
  },
  "orig_nbformat": 4,
  "vscode": {
   "interpreter": {
    "hash": "9c3e46b9eec5387123b9e139f4c20aa6884d799c5d5beae629a0b244f9101511"
   }
  }
 },
 "nbformat": 4,
 "nbformat_minor": 2
}
