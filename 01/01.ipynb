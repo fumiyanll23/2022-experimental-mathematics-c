{
 "cells": [
  {
   "cell_type": "markdown",
   "metadata": {},
   "source": [
    "# 2022年度第3ターム「実験数学C」 第01回 10/03(火)4限"
   ]
  },
  {
   "cell_type": "code",
   "execution_count": 9,
   "metadata": {},
   "outputs": [],
   "source": [
    "# 必要なモジュールをインポートする\n",
    "import sympy as sp\n",
    "\n",
    "import math"
   ]
  },
  {
   "cell_type": "markdown",
   "metadata": {},
   "source": [
    "### (1) 円周率の近似値を積分を用いて求める\n",
    "\n",
    "$f(x) = \\sqrt{1 - x^{2}}$ のとき，\n",
    "$$4 \\int_{0}^{1} f(x)dx = \\pi.$$"
   ]
  },
  {
   "cell_type": "code",
   "execution_count": 7,
   "metadata": {},
   "outputs": [
    {
     "name": "stdout",
     "output_type": "stream",
     "text": [
      "pi\n"
     ]
    }
   ],
   "source": [
    "# 変数xを定義する\n",
    "x = sp.symbols(\"x\")\n",
    "# 被積分関数f(x) = √(1-x^2)を定義する\n",
    "f = sp.sqrt(1 - x*x)\n",
    "\n",
    "# f(x)を区間[0, 1]で積分する\n",
    "print(4 * sp.integrate(f, (x, 0, 1)))"
   ]
  },
  {
   "cell_type": "markdown",
   "metadata": {},
   "source": [
    "※以下，同様に $f(x) = \\sqrt{1 - x^{2}}$ とする．"
   ]
  },
  {
   "cell_type": "code",
   "execution_count": null,
   "metadata": {},
   "outputs": [],
   "source": [
    "# 被積分関数f(x) = √(1-x^2)を定義する\n",
    "def f(x: float) -> float:\n",
    "    return math.sqrt(1 - x*x)"
   ]
  },
  {
   "cell_type": "markdown",
   "metadata": {},
   "source": [
    "### (2) 円周率の近似値を区分求積法 (最小値) を用いて求める\n",
    "\n"
   ]
  },
  {
   "cell_type": "code",
   "execution_count": 16,
   "metadata": {},
   "outputs": [
    {
     "name": "stdout",
     "output_type": "stream",
     "text": [
      "3.1415926335868747\n"
     ]
    }
   ],
   "source": [
    "# 分割数 (大きくするほど精度が高くなる)\n",
    "n = 100000000\n",
    "\n",
    "total = 0\n",
    "for k in range(1, n+1):\n",
    "    total += f(k / n)\n",
    "\n",
    "print(4 * total / n)"
   ]
  },
  {
   "cell_type": "markdown",
   "metadata": {},
   "source": []
  }
 ],
 "metadata": {
  "kernelspec": {
   "display_name": "Python 3.9.12 ('.venv': venv)",
   "language": "python",
   "name": "python3"
  },
  "language_info": {
   "codemirror_mode": {
    "name": "ipython",
    "version": 3
   },
   "file_extension": ".py",
   "mimetype": "text/x-python",
   "name": "python",
   "nbconvert_exporter": "python",
   "pygments_lexer": "ipython3",
   "version": "3.9.12"
  },
  "orig_nbformat": 4,
  "vscode": {
   "interpreter": {
    "hash": "9c3e46b9eec5387123b9e139f4c20aa6884d799c5d5beae629a0b244f9101511"
   }
  }
 },
 "nbformat": 4,
 "nbformat_minor": 2
}
