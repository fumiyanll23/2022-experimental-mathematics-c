{
 "cells": [
  {
   "cell_type": "markdown",
   "metadata": {},
   "source": [
    "# 2022年度第3ターム「実験数学C」 第01回 10/03(火)4限"
   ]
  },
  {
   "cell_type": "code",
   "execution_count": null,
   "metadata": {},
   "outputs": [],
   "source": [
    "# 必要な外部モジュールをインストールする\n",
    "!pip install sympy"
   ]
  },
  {
   "cell_type": "code",
   "execution_count": null,
   "metadata": {},
   "outputs": [],
   "source": [
    "# 必要なモジュールをインポートする\n",
    "import sympy as sp\n",
    "from decimal import *\n",
    "\n",
    "import math"
   ]
  },
  {
   "cell_type": "markdown",
   "metadata": {},
   "source": [
    "## 1. 積分を用いる"
   ]
  },
  {
   "cell_type": "markdown",
   "metadata": {},
   "source": [
    "### (1) 円周率の近似値を積分を用いて求める\n",
    "\n",
    "$f(x) = \\sqrt{1 - x^{2}}$ のとき，\n",
    "$$4 \\int_{0}^{1} f(x)dx = \\pi.$$"
   ]
  },
  {
   "cell_type": "code",
   "execution_count": null,
   "metadata": {},
   "outputs": [],
   "source": [
    "# 変数xを定義する\n",
    "x = sp.symbols(\"x\")\n",
    "# 被積分関数f(x) = √(1-x^2)を定義する\n",
    "f = sp.sqrt(1 - x*x)\n",
    "\n",
    "# f(x)を区間[0, 1]で積分する\n",
    "print(4 * sp.integrate(f, (x, 0, 1)))"
   ]
  },
  {
   "cell_type": "markdown",
   "metadata": {},
   "source": [
    "※以下，同様に $f(x) = \\sqrt{1 - x^{2}}$ とする．"
   ]
  },
  {
   "cell_type": "code",
   "execution_count": null,
   "metadata": {},
   "outputs": [],
   "source": [
    "# 被積分関数f(x) = √(1-x^2)を定義する\n",
    "def f(x: float) -> float:\n",
    "    return math.sqrt(1 - x*x)"
   ]
  },
  {
   "cell_type": "markdown",
   "metadata": {},
   "source": [
    "### (2) 円周率の近似値を区分求積法 (最小値) を用いて求める\n",
    "\n",
    "$$4 \\lim_{n \\to \\infty} \\frac{1}{n} \\sum_{k = 1}^{n} f\\left(\\frac{k}{n}\\right) = \\pi.$$"
   ]
  },
  {
   "cell_type": "code",
   "execution_count": null,
   "metadata": {},
   "outputs": [],
   "source": [
    "# 分割数 (大きくするほど精度が高くなる)\n",
    "n = 100000000\n",
    "\n",
    "total = 0\n",
    "for k in range(1, n+1):\n",
    "    total += f(k / n)\n",
    "\n",
    "print(4 * total / n)"
   ]
  },
  {
   "cell_type": "markdown",
   "metadata": {},
   "source": [
    "### (3) 円周率の近似値を区分求積法 (最大値) を用いて求める\n",
    "\n",
    "$$4 \\lim_{n \\to \\infty} \\frac{1}{n} \\sum_{k = 1}^{n} f\\left(\\frac{k - 1}{n}\\right) = \\pi.$$"
   ]
  },
  {
   "cell_type": "code",
   "execution_count": null,
   "metadata": {},
   "outputs": [],
   "source": [
    "# 分割数 (大きくするほど精度が高くなる)\n",
    "n = 100000000\n",
    "\n",
    "total = 0\n",
    "for k in range(1, n+1):\n",
    "    total += f((k-1) / n)\n",
    "\n",
    "print(4 * total / n)"
   ]
  },
  {
   "cell_type": "markdown",
   "metadata": {},
   "source": [
    "### (4) 円周率の近似値を中点公式を用いて求める\n",
    "\n",
    "$$4 \\lim_{n \\to \\infty} \\frac{1}{n} \\sum_{k = 1}^{n} f\\left(\\frac{2k - 1}{2n}\\right) = \\pi.$$\n"
   ]
  },
  {
   "cell_type": "code",
   "execution_count": null,
   "metadata": {},
   "outputs": [],
   "source": [
    "#nを大きくすることで∞の表現に近づける\n",
    "n=100000000\n",
    "total = 0\n",
    "for k in range (1,n):\n",
    "    total += f((2*k-1)/(2*n))\n",
    "\n",
    "pi=  total*4/n\n",
    "print(pi)"
   ]
  },
  {
   "cell_type": "markdown",
   "metadata": {},
   "source": [
    "### (5) 円周率の近似値を台形公式を用いて求める\n",
    "\n",
    "$$2 \\lim_{n \\to \\infty} \\frac{1}{n} \\sum_{k = 1}^{n} \\left(f\\left(\\frac{k - 1}{n}\\right) + f\\left(\\frac{k}{n}\\right)\\right) = \\pi.$$"
   ]
  },
  {
   "cell_type": "code",
   "execution_count": null,
   "metadata": {},
   "outputs": [],
   "source": [
    "# 分割数 (大きくするほど精度が高くなる)\n",
    "n = 100000000\n",
    "\n",
    "total = 0\n",
    "for k in range(1, n+1):\n",
    "    total += f((k-1) / n) + f(k / n)\n",
    "\n",
    "print(2 * total / n)"
   ]
  },
  {
   "cell_type": "markdown",
   "metadata": {},
   "source": [
    "## 2. Taylor展開を用いる"
   ]
  },
  {
   "cell_type": "markdown",
   "metadata": {},
   "source": [
    "### (1) 円周率の近似値をTaylor展開を用いて求める\n",
    "\n",
    "$\\tan^{-1}x = \\displaystyle{\\sum_{n = 0}^{\\infty} \\frac{(-1)^{n + 1}}{2n + 1} x^{2n + 1}}$ より $x = 1$ を代入して\n",
    "\n",
    "$$\\frac{\\pi}{4} = \\sum_{n = 0}^{\\infty} \\frac{(-1)^{n + 1}}{2n + 1} = 1 - \\frac{1}{3} + \\frac{1}{5} - \\cdots.$$"
   ]
  },
  {
   "cell_type": "code",
   "execution_count": null,
   "metadata": {},
   "outputs": [],
   "source": [
    "#表示する円周率の桁数\n",
    "getcontext().prec = 100\n",
    "#arctanの定義\n",
    "def arctan(x,N):\n",
    "    s = Decimal(0)\n",
    "    p = x\n",
    "    for n in range(N):\n",
    "        k = Decimal(2*n+1)\n",
    "        if n%2==0:\n",
    "            s = s + Decimal(1)/k * p\n",
    "        else:\n",
    "            s = s - Decimal(1)/k * p\n",
    "        p = p * x * x\n",
    "    return s\n",
    "#mを大きくすることで精度が上がる\n",
    "m = 10000\n",
    "pi = Decimal(4)*arctan(Decimal(1), 3*m+2)\n",
    "\n",
    "print(pi)"
   ]
  }
 ],
 "metadata": {
  "kernelspec": {
   "display_name": "Python 3.6.9 ('.venv': venv)",
   "language": "python",
   "name": "python3"
  },
  "language_info": {
   "codemirror_mode": {
    "name": "ipython",
    "version": 3
   },
   "file_extension": ".py",
   "mimetype": "text/x-python",
   "name": "python",
   "nbconvert_exporter": "python",
   "pygments_lexer": "ipython3",
   "version": "3.6.9"
  },
  "orig_nbformat": 4,
  "vscode": {
   "interpreter": {
    "hash": "9c3e46b9eec5387123b9e139f4c20aa6884d799c5d5beae629a0b244f9101511"
   }
  }
 },
 "nbformat": 4,
 "nbformat_minor": 2
}
