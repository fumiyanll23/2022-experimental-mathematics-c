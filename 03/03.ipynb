{
 "cells": [
  {
   "cell_type": "markdown",
   "metadata": {},
   "source": [
    "# 2022年度第3ターム「実験数学C」 第03回 10/18(火)4限"
   ]
  },
  {
   "cell_type": "code",
   "execution_count": null,
   "metadata": {},
   "outputs": [],
   "source": [
    "# 必要な外部モジュールをインストールする\n",
    "!pip install numpy sympy"
   ]
  },
  {
   "cell_type": "code",
   "execution_count": 1,
   "metadata": {},
   "outputs": [],
   "source": [
    "# 必要なモジュールをインポートする\n",
    "import numpy as np\n",
    "import sympy as sp"
   ]
  },
  {
   "cell_type": "markdown",
   "metadata": {},
   "source": [
    "## 以下の連立方程式の解を求める"
   ]
  },
  {
   "cell_type": "markdown",
   "metadata": {},
   "source": [
    "### 1. $2x + 3y = 8, 4x + 5y = 14$.\n",
    "\n",
    "解は $(x, y) = (1, 2)$．"
   ]
  },
  {
   "cell_type": "code",
   "execution_count": 2,
   "metadata": {},
   "outputs": [
    {
     "name": "stdout",
     "output_type": "stream",
     "text": [
      "[1. 2.]\n"
     ]
    }
   ],
   "source": [
    "# 連立方程式の左辺の係数を式ごとに入力\n",
    "left = [[2, 3], [4, 5]]\n",
    "# 連立方程式の右辺を入力\n",
    "right = [8, 14]\n",
    "# 解を表示（左がx,右がy）\n",
    "print(np.linalg.solve(left, right))"
   ]
  },
  {
   "cell_type": "markdown",
   "metadata": {},
   "source": [
    "### 2. $x + 2y = 8, 2x + 4y = 16$.\n",
    "\n",
    "解は $(x, y) = (t, 4 - \\frac{t}{2}),\\ t \\in \\mathbb{R}$ (不定)．"
   ]
  },
  {
   "cell_type": "code",
   "execution_count": 3,
   "metadata": {},
   "outputs": [
    {
     "ename": "LinAlgError",
     "evalue": "Singular matrix",
     "output_type": "error",
     "traceback": [
      "\u001b[0;31m---------------------------------------------------------------------------\u001b[0m",
      "\u001b[0;31mLinAlgError\u001b[0m                               Traceback (most recent call last)",
      "Cell \u001b[0;32mIn [3], line 12\u001b[0m\n\u001b[1;32m      9\u001b[0m bs \u001b[39m=\u001b[39m np\u001b[39m.\u001b[39marray([\u001b[39m8\u001b[39m, \u001b[39m16\u001b[39m])\n\u001b[1;32m     11\u001b[0m \u001b[39m# 連立方程式を解く。ただし、特異行列 (非正則行列) なので不定である\u001b[39;00m\n\u001b[0;32m---> 12\u001b[0m anss \u001b[39m=\u001b[39m np\u001b[39m.\u001b[39;49mlinalg\u001b[39m.\u001b[39;49msolve(Ass, bs)\n\u001b[1;32m     13\u001b[0m \u001b[39mprint\u001b[39m(\u001b[39mf\u001b[39m\u001b[39m\"\u001b[39m\u001b[39m(x, y) = \u001b[39m\u001b[39m{\u001b[39;00manss\u001b[39m}\u001b[39;00m\u001b[39m\"\u001b[39m)\n",
      "File \u001b[0;32m<__array_function__ internals>:180\u001b[0m, in \u001b[0;36msolve\u001b[0;34m(*args, **kwargs)\u001b[0m\n",
      "File \u001b[0;32m~/work/2022-experimental-mathematics-c/03/.venv/lib/python3.10/site-packages/numpy/linalg/linalg.py:400\u001b[0m, in \u001b[0;36msolve\u001b[0;34m(a, b)\u001b[0m\n\u001b[1;32m    398\u001b[0m signature \u001b[39m=\u001b[39m \u001b[39m'\u001b[39m\u001b[39mDD->D\u001b[39m\u001b[39m'\u001b[39m \u001b[39mif\u001b[39;00m isComplexType(t) \u001b[39melse\u001b[39;00m \u001b[39m'\u001b[39m\u001b[39mdd->d\u001b[39m\u001b[39m'\u001b[39m\n\u001b[1;32m    399\u001b[0m extobj \u001b[39m=\u001b[39m get_linalg_error_extobj(_raise_linalgerror_singular)\n\u001b[0;32m--> 400\u001b[0m r \u001b[39m=\u001b[39m gufunc(a, b, signature\u001b[39m=\u001b[39;49msignature, extobj\u001b[39m=\u001b[39;49mextobj)\n\u001b[1;32m    402\u001b[0m \u001b[39mreturn\u001b[39;00m wrap(r\u001b[39m.\u001b[39mastype(result_t, copy\u001b[39m=\u001b[39m\u001b[39mFalse\u001b[39;00m))\n",
      "File \u001b[0;32m~/work/2022-experimental-mathematics-c/03/.venv/lib/python3.10/site-packages/numpy/linalg/linalg.py:89\u001b[0m, in \u001b[0;36m_raise_linalgerror_singular\u001b[0;34m(err, flag)\u001b[0m\n\u001b[1;32m     88\u001b[0m \u001b[39mdef\u001b[39;00m \u001b[39m_raise_linalgerror_singular\u001b[39m(err, flag):\n\u001b[0;32m---> 89\u001b[0m     \u001b[39mraise\u001b[39;00m LinAlgError(\u001b[39m\"\u001b[39m\u001b[39mSingular matrix\u001b[39m\u001b[39m\"\u001b[39m)\n",
      "\u001b[0;31mLinAlgError\u001b[0m: Singular matrix"
     ]
    }
   ],
   "source": [
    "# 連立方程式{x+2y=8, 2x+4y=16}をNumpyで解く\n",
    "# 係数行列とベクトルを用意する\n",
    "Ass = np.array(\n",
    "    [\n",
    "        [1, 2],\n",
    "        [2, 4],\n",
    "    ]\n",
    ")\n",
    "bs = np.array([8, 16])\n",
    "\n",
    "# 連立方程式を解く。ただし、特異行列 (非正則行列) なので不定である\n",
    "anss = np.linalg.solve(Ass, bs)\n",
    "print(f\"(x, y) = {anss}\")"
   ]
  },
  {
   "cell_type": "code",
   "execution_count": 4,
   "metadata": {},
   "outputs": [
    {
     "name": "stdout",
     "output_type": "stream",
     "text": [
      "x = 8 - 2*y\n"
     ]
    }
   ],
   "source": [
    "# 連立方程式{x+2y=8, 2x+4y=16}をSympyで解く\n",
    "# 変数を定義する\n",
    "x = sp.Symbol(\"x\")\n",
    "y = sp.Symbol(\"y\")\n",
    "\n",
    "# 方程式を多項式として定義する\n",
    "eq_01 = x + 2 * y - 8\n",
    "eq_02 = 2 * x + 4 * y - 16\n",
    "\n",
    "# 連立方程式を解く。ただし、特異行列 (非正則行列) なので不定である\n",
    "anss = sp.solve([eq_01, eq_02], [x, y])\n",
    "for k, v in anss.items():\n",
    "    print(f\"{k} = {v}\")"
   ]
  },
  {
   "cell_type": "markdown",
   "metadata": {},
   "source": [
    "### 3. $2x + y = 7, 6x + 3y = 15$.\n",
    "\n",
    "解はない (不能)．"
   ]
  },
  {
   "cell_type": "code",
   "execution_count": 5,
   "metadata": {},
   "outputs": [
    {
     "name": "stdout",
     "output_type": "stream",
     "text": [
      "[]\n"
     ]
    }
   ],
   "source": [
    "# 変数x,yを定義\n",
    "x = sp.Symbol(\"x\")\n",
    "y = sp.Symbol(\"y\")\n",
    "# それぞれの方程式の右辺を移項した式を入力\n",
    "equation1 = 2 * x + 1 * y - 7\n",
    "equation2 = 6 * x + 3 * y - 15\n",
    "# 解を表示\n",
    "print(sp.solve([equation1, equation2]))\n",
    "# 解なしであれば空白のリストが表示される"
   ]
  },
  {
   "cell_type": "markdown",
   "metadata": {},
   "source": [
    "### 4. $3x_{1} + x_{2} + 2x_{3} = 13, 5x_{1} + x_{2} + 3x_{3} = 20, 4x_{1} + 2x_{2} + x_{3} = 13$.\n",
    "\n",
    "解は $(x_{1}, x_{2}, x_{3}) = (2, 1, 3)$．"
   ]
  },
  {
   "cell_type": "code",
   "execution_count": 6,
   "metadata": {},
   "outputs": [
    {
     "name": "stdout",
     "output_type": "stream",
     "text": [
      "(x, y, z) = [2. 1. 3.]\n"
     ]
    }
   ],
   "source": [
    "# 連立方程式{3x_1+x_2+2x_3=13, 5x_1+x_2+3x_3=20, 4x_1+2x_2+x_3=13}をNumpyで解く\n",
    "# 係数行列とベクトルを用意する\n",
    "Ass = np.array(\n",
    "    [\n",
    "        [3, 1, 2],\n",
    "        [5, 1, 3],\n",
    "        [4, 2, 1],\n",
    "    ]\n",
    ")\n",
    "bs = np.array([13, 20, 13])\n",
    "\n",
    "# 連立方程式を解く\n",
    "anss = np.linalg.solve(Ass, bs)\n",
    "print(f\"(x, y, z) = {anss}\")"
   ]
  },
  {
   "cell_type": "code",
   "execution_count": 7,
   "metadata": {},
   "outputs": [
    {
     "name": "stdout",
     "output_type": "stream",
     "text": [
      "x_1 = 2\n",
      "x_2 = 1\n",
      "x_3 = 3\n"
     ]
    }
   ],
   "source": [
    "# 連立方程式{3x_1+x_2+2x_3=13, 5x_1+x_2+3x_3=20, 4x_1+2x_2+x_3=13}をSympyで解く\n",
    "# 変数を定義する\n",
    "x = sp.Symbol(\"x_1\")\n",
    "y = sp.Symbol(\"x_2\")\n",
    "z = sp.Symbol(\"x_3\")\n",
    "\n",
    "# 方程式を多項式として定義する\n",
    "eq_01 = 3 * x + y + 2 * z - 13\n",
    "eq_02 = 5 * x + y + 3 * z - 20\n",
    "eq_03 = 4 * x + 2 * y + z - 13\n",
    "\n",
    "# 連立方程式を解く\n",
    "anss = sp.solve([eq_01, eq_02, eq_03], [x, y, z])\n",
    "for k, v in anss.items():\n",
    "    print(f\"{k} = {v}\")"
   ]
  },
  {
   "cell_type": "markdown",
   "metadata": {},
   "source": [
    "### 5. $9x + 2y + z + w = 20, 2x + 8y - 2z + w = 16, -x - 2y + 7z - 2w = 8, x - y - 2z + 6w = 17$.\n",
    "\n",
    "解は $(x, y, z, w) = (1, 2, 3, 4)$．"
   ]
  },
  {
   "cell_type": "code",
   "execution_count": 8,
   "metadata": {},
   "outputs": [
    {
     "name": "stdout",
     "output_type": "stream",
     "text": [
      "[1. 2. 3. 4.]\n"
     ]
    }
   ],
   "source": [
    "# 連立方程式の左辺の係数を式ごとに入力\n",
    "left = [[9, 2, 1, 1], [2, 8, -2, 1], [-1, -2, 7, -2], [1, -1, -2, 6]]\n",
    "\n",
    "# 連立方程式の右辺を入力\n",
    "right = [20, 16, 8, 17]\n",
    "# 解を表示（左からx,y,z,w）\n",
    "print(np.linalg.solve(left, right))"
   ]
  },
  {
   "cell_type": "markdown",
   "metadata": {},
   "source": [
    "### 6. $x^{2} + y^{2} = 1, 4x + 3y = 5$.\n",
    "\n",
    "解は $(x, y) = (\\frac{4}{5}, \\frac{3}{5})$."
   ]
  },
  {
   "cell_type": "code",
   "execution_count": 9,
   "metadata": {},
   "outputs": [
    {
     "name": "stdout",
     "output_type": "stream",
     "text": [
      "x = 4/5\n",
      "y = 3/5\n"
     ]
    }
   ],
   "source": [
    "# 連立方程式{x^2+y^2=1, 4x+3y=5}をSympyで解く\n",
    "# 変数を定義する\n",
    "x = sp.Symbol(\"x\")\n",
    "y = sp.Symbol(\"y\")\n",
    "\n",
    "# 方程式を多項式として定義する\n",
    "eq_01 = x**2 + y**2 - 1\n",
    "eq_02 = 4 * x + 3 * y - 5\n",
    "\n",
    "# 連立方程式を解く\n",
    "anss = sp.solve([eq_01, eq_02], [x, y])\n",
    "print(f\"x = {anss[0][0]}\")\n",
    "print(f\"y = {anss[0][1]}\")"
   ]
  },
  {
   "cell_type": "markdown",
   "metadata": {},
   "source": [
    "### 7. $x^{2} + y^{2} = 1, y = \\sin{x}$.\n",
    "\n",
    "Sympyでは解けないため，エラーが出る．"
   ]
  },
  {
   "cell_type": "code",
   "execution_count": 10,
   "metadata": {},
   "outputs": [
    {
     "ename": "NotImplementedError",
     "evalue": "could not solve y + sin(sqrt(-(y - 1)*(y + 1)))",
     "output_type": "error",
     "traceback": [
      "\u001b[0;31m---------------------------------------------------------------------------\u001b[0m",
      "\u001b[0;31mNotImplementedError\u001b[0m                       Traceback (most recent call last)",
      "Cell \u001b[0;32mIn [10], line 8\u001b[0m\n\u001b[1;32m      6\u001b[0m equation2 \u001b[39m=\u001b[39m \u001b[39m-\u001b[39msp\u001b[39m.\u001b[39msin(x) \u001b[39m+\u001b[39m y\n\u001b[1;32m      7\u001b[0m \u001b[39m# 解を表示\u001b[39;00m\n\u001b[0;32m----> 8\u001b[0m \u001b[39mprint\u001b[39m(sp\u001b[39m.\u001b[39;49msolve([equation1, equation2]))\n",
      "File \u001b[0;32m~/work/2022-experimental-mathematics-c/03/.venv/lib/python3.10/site-packages/sympy/solvers/solvers.py:1114\u001b[0m, in \u001b[0;36msolve\u001b[0;34m(f, *symbols, **flags)\u001b[0m\n\u001b[1;32m   1112\u001b[0m     solution \u001b[39m=\u001b[39m _solve(f[\u001b[39m0\u001b[39m], \u001b[39m*\u001b[39msymbols, \u001b[39m*\u001b[39m\u001b[39m*\u001b[39mflags)\n\u001b[1;32m   1113\u001b[0m \u001b[39melse\u001b[39;00m:\n\u001b[0;32m-> 1114\u001b[0m     solution \u001b[39m=\u001b[39m _solve_system(f, symbols, \u001b[39m*\u001b[39;49m\u001b[39m*\u001b[39;49mflags)\n\u001b[1;32m   1116\u001b[0m \u001b[39m#\u001b[39;00m\n\u001b[1;32m   1117\u001b[0m \u001b[39m# postprocessing\u001b[39;00m\n\u001b[1;32m   1118\u001b[0m \u001b[39m###########################################################################\u001b[39;00m\n\u001b[1;32m   1119\u001b[0m \u001b[39m# Restore masked-off objects\u001b[39;00m\n\u001b[1;32m   1120\u001b[0m \u001b[39mif\u001b[39;00m non_inverts:\n",
      "File \u001b[0;32m~/work/2022-experimental-mathematics-c/03/.venv/lib/python3.10/site-packages/sympy/solvers/solvers.py:1995\u001b[0m, in \u001b[0;36m_solve_system\u001b[0;34m(exprs, symbols, **flags)\u001b[0m\n\u001b[1;32m   1993\u001b[0m         got_s\u001b[39m.\u001b[39madd(s)\n\u001b[1;32m   1994\u001b[0m     \u001b[39mif\u001b[39;00m \u001b[39mnot\u001b[39;00m hit:\n\u001b[0;32m-> 1995\u001b[0m         \u001b[39mraise\u001b[39;00m \u001b[39mNotImplementedError\u001b[39;00m(\u001b[39m'\u001b[39m\u001b[39mcould not solve \u001b[39m\u001b[39m%s\u001b[39;00m\u001b[39m'\u001b[39m \u001b[39m%\u001b[39m eq2)\n\u001b[1;32m   1996\u001b[0m \u001b[39melse\u001b[39;00m:\n\u001b[1;32m   1997\u001b[0m     result \u001b[39m=\u001b[39m newresult\n",
      "\u001b[0;31mNotImplementedError\u001b[0m: could not solve y + sin(sqrt(-(y - 1)*(y + 1)))"
     ]
    }
   ],
   "source": [
    "# 変数x,yを定義\n",
    "x = sp.Symbol(\"x\")\n",
    "y = sp.Symbol(\"y\")\n",
    "# それぞれの方程式の右辺を移項した式を入力\n",
    "equation1 = x**2 + y**2 - 1\n",
    "equation2 = -sp.sin(x) + y\n",
    "# 解を表示\n",
    "print(sp.solve([equation1, equation2]))\n",
    "# 代数的には解けないためsympyだとエラーが出る"
   ]
  }
 ],
 "metadata": {
  "kernelspec": {
   "display_name": "Python 3.9.12 ('.venv': venv)",
   "language": "python",
   "name": "python3"
  },
  "language_info": {
   "codemirror_mode": {
    "name": "ipython",
    "version": 3
   },
   "file_extension": ".py",
   "mimetype": "text/x-python",
   "name": "python",
   "nbconvert_exporter": "python",
   "pygments_lexer": "ipython3",
   "version": "3.10.7"
  },
  "orig_nbformat": 4,
  "vscode": {
   "interpreter": {
    "hash": "0fa76940624510f95e5305a3929d59aa010a6ef2ab0e092cfc956878150a2d61"
   }
  }
 },
 "nbformat": 4,
 "nbformat_minor": 2
}
